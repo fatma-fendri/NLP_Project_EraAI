{
  "cells": [
    {
      "cell_type": "markdown",
      "metadata": {
        "id": "eOCImRwg5Om-"
      },
      "source": [
        "## Load the libraries"
      ]
    },
    {
      "cell_type": "code",
      "execution_count": null,
      "metadata": {
        "colab": {
          "base_uri": "https://localhost:8080/"
        },
        "id": "3MRqUkLYoa0h",
        "outputId": "a195a417-dcc8-4f68-a8ab-f7a4dcc98a94"
      },
      "outputs": [
        {
          "output_type": "stream",
          "name": "stderr",
          "text": [
            "[nltk_data] Downloading package brown to /root/nltk_data...\n",
            "[nltk_data]   Unzipping corpora/brown.zip.\n",
            "[nltk_data] Downloading package punkt to /root/nltk_data...\n",
            "[nltk_data]   Unzipping tokenizers/punkt.zip.\n",
            "[nltk_data] Downloading package stopwords to /root/nltk_data...\n",
            "[nltk_data]   Unzipping corpora/stopwords.zip.\n",
            "[nltk_data] Downloading package wordnet to /root/nltk_data...\n",
            "[nltk_data] Downloading package averaged_perceptron_tagger to\n",
            "[nltk_data]     /root/nltk_data...\n",
            "[nltk_data]   Unzipping taggers/averaged_perceptron_tagger.zip.\n"
          ]
        },
        {
          "output_type": "execute_result",
          "data": {
            "text/plain": [
              "True"
            ]
          },
          "metadata": {},
          "execution_count": 1
        }
      ],
      "source": [
        "import pandas as pd\n",
        "import numpy as np\n",
        "import matplotlib.pyplot as plt\n",
        "from collections import namedtuple\n",
        "from nltk import word_tokenize\n",
        "from functools import lru_cache\n",
        "import re\n",
        "import unicodedata\n",
        "import sys\n",
        "from collections import Counter\n",
        "import nltk\n",
        "nltk.download('brown')\n",
        "from nltk.corpus import brown\n",
        "from nltk import word_tokenize\n",
        "nltk.download('punkt')\n",
        "nltk.download('stopwords')\n",
        "nltk.download('wordnet')\n",
        "from nltk.corpus import stopwords\n",
        "from nltk import pos_tag\n",
        "nltk.download('averaged_perceptron_tagger')"
      ]
    },
    {
      "cell_type": "markdown",
      "metadata": {
        "id": "57AUXjgM4rn5"
      },
      "source": [
        "## First part: The Complex Word Identification Model:"
      ]
    },
    {
      "cell_type": "code",
      "execution_count": null,
      "metadata": {
        "id": "-Ag-5krPia3A"
      },
      "outputs": [],
      "source": [
        "\n",
        "Dataset = namedtuple('Dataset', 'name, train, test')\n",
        "Model = namedtuple('Model', 'type, name, dimension, corpus, model')"
      ]
    },
    {
      "cell_type": "markdown",
      "metadata": {
        "id": "qPPVep68474C"
      },
      "source": [
        "Get the dataset to train the CWI model\n"
      ]
    },
    {
      "cell_type": "code",
      "execution_count": null,
      "metadata": {
        "colab": {
          "base_uri": "https://localhost:8080/"
        },
        "id": "Ga12AgFHiyN2",
        "outputId": "377a7095-8b1f-4de8-a75f-d8c4a1117df8"
      },
      "outputs": [
        {
          "output_type": "stream",
          "name": "stdout",
          "text": [
            "--2023-05-03 22:37:29--  https://www.inf.uni-hamburg.de/en/inst/ab/lt/resources/data/complex-word-identification-dataset/cwishareddataset.zip\n",
            "Resolving www.inf.uni-hamburg.de (www.inf.uni-hamburg.de)... 134.100.36.5\n",
            "Connecting to www.inf.uni-hamburg.de (www.inf.uni-hamburg.de)|134.100.36.5|:443... connected.\n",
            "HTTP request sent, awaiting response... 200 OK\n",
            "Length: unspecified [application/zip]\n",
            "Saving to: ‘cwishareddataset.zip’\n",
            "\n",
            "cwishareddataset.zi     [          <=>       ]   1.03M   574KB/s    in 1.8s    \n",
            "\n",
            "2023-05-03 22:37:32 (574 KB/s) - ‘cwishareddataset.zip’ saved [1075894]\n",
            "\n"
          ]
        }
      ],
      "source": [
        "!wget https://www.inf.uni-hamburg.de/en/inst/ab/lt/resources/data/complex-word-identification-dataset/cwishareddataset.zip"
      ]
    },
    {
      "cell_type": "code",
      "execution_count": null,
      "metadata": {
        "colab": {
          "base_uri": "https://localhost:8080/"
        },
        "id": "upShTZSAjMVW",
        "outputId": "b4d6bcd1-5e52-480b-d2cc-be777cb5d9f1"
      },
      "outputs": [
        {
          "output_type": "stream",
          "name": "stdout",
          "text": [
            "Archive:  cwishareddataset.zip\n",
            "   creating: traindevset/\n",
            "   creating: traindevset/german/\n",
            "  inflating: traindevset/german/German_Train.tsv  \n",
            "  inflating: traindevset/german/German_Dev.tsv  \n",
            "  inflating: traindevset/README.md   \n",
            "   creating: traindevset/english/\n",
            "  inflating: traindevset/english/WikiNews_Train.tsv  \n",
            "  inflating: traindevset/english/Wikipedia_Train.tsv  \n",
            "  inflating: traindevset/english/Wikipedia_Dev.tsv  \n",
            "  inflating: traindevset/english/News_Dev.tsv  \n",
            "  inflating: traindevset/english/News_Train.tsv  \n",
            "  inflating: traindevset/english/WikiNews_Dev.tsv  \n",
            "   creating: traindevset/spanish/\n",
            "  inflating: traindevset/spanish/Spanish_Train.tsv  \n",
            "  inflating: traindevset/spanish/Spanish_Dev.tsv  \n",
            "  inflating: README.md               \n",
            "   creating: testset/\n",
            "   creating: testset/german/\n",
            "  inflating: testset/german/German_Test.tsv  \n",
            "  inflating: testset/README.md       \n",
            "   creating: testset/english/\n",
            "  inflating: testset/english/Wikipedia_Test.tsv  \n",
            "   creating: __MACOSX/\n",
            "   creating: __MACOSX/testset/\n",
            "   creating: __MACOSX/testset/english/\n",
            "  inflating: __MACOSX/testset/english/._Wikipedia_Test.tsv  \n",
            "  inflating: testset/english/WikiNews_Test.tsv  \n",
            "  inflating: testset/english/News_Test.tsv  \n",
            "   creating: testset/french/\n",
            "  inflating: testset/french/French_Test.tsv  \n",
            "   creating: testset/spanish/\n",
            "  inflating: testset/spanish/Spanish_Test.tsv  \n"
          ]
        }
      ],
      "source": [
        "!unzip cwishareddataset.zip"
      ]
    },
    {
      "cell_type": "code",
      "execution_count": null,
      "metadata": {
        "id": "sgMuNkitia3a"
      },
      "outputs": [],
      "source": [
        "pd.set_option('display.max_columns', 500)\n",
        "pd.set_option('display.max_colwidth', 200)\n",
        "MAIN_PATH_DATASET = \"traindevset/english/\"\n",
        "genres = ['Wikipedia', 'WikiNews', 'News']\n",
        "datasets = ['Train', 'Dev']\n",
        "columns = ['id', 'sentence', \"start\", \"end\", \"target\",\n",
        "           \"nat\", \"non_nat\", \"nat_marked\", \"non_nat_marked\", \"binary\", \"prob\"]\n",
        "\n",
        "\n",
        "datasets = [Dataset('Wikipedia', 'Train', 'Dev'),\n",
        "            Dataset('WikiNews', 'Train', 'Dev'),\n",
        "            Dataset('News', 'Train', 'Dev')]\n",
        "\n",
        "feature_categories = []\n",
        "\n",
        "def load_df(path):\n",
        "    df = pd.read_csv(path, header=None, sep = \"\\t\")\n",
        "    df.columns = columns\n",
        "    return df\n",
        "\n",
        "datasets = [Dataset(d.name, load_df(MAIN_PATH_DATASET + d.name + '_' + d.train + '.tsv'),\n",
        "                            load_df(MAIN_PATH_DATASET + d.name + '_' + d.test + '.tsv'))\n",
        "                            for d in datasets]"
      ]
    },
    {
      "cell_type": "markdown",
      "metadata": {
        "id": "q5ejPkqT5jmj"
      },
      "source": [
        "Get the glove embedding"
      ]
    },
    {
      "cell_type": "code",
      "execution_count": null,
      "metadata": {
        "colab": {
          "base_uri": "https://localhost:8080/"
        },
        "id": "9qYxKCLK5gah",
        "outputId": "5fbabf2b-4d26-49d2-e655-9d9c6df27fa3"
      },
      "outputs": [
        {
          "output_type": "stream",
          "name": "stdout",
          "text": [
            "--2023-05-03 22:37:33--  http://nlp.stanford.edu/data/glove.6B.zip\n",
            "Resolving nlp.stanford.edu (nlp.stanford.edu)... 171.64.67.140\n",
            "Connecting to nlp.stanford.edu (nlp.stanford.edu)|171.64.67.140|:80... connected.\n",
            "HTTP request sent, awaiting response... 302 Found\n",
            "Location: https://nlp.stanford.edu/data/glove.6B.zip [following]\n",
            "--2023-05-03 22:37:33--  https://nlp.stanford.edu/data/glove.6B.zip\n",
            "Connecting to nlp.stanford.edu (nlp.stanford.edu)|171.64.67.140|:443... connected.\n",
            "HTTP request sent, awaiting response... 301 Moved Permanently\n",
            "Location: https://downloads.cs.stanford.edu/nlp/data/glove.6B.zip [following]\n",
            "--2023-05-03 22:37:34--  https://downloads.cs.stanford.edu/nlp/data/glove.6B.zip\n",
            "Resolving downloads.cs.stanford.edu (downloads.cs.stanford.edu)... 171.64.64.22\n",
            "Connecting to downloads.cs.stanford.edu (downloads.cs.stanford.edu)|171.64.64.22|:443... connected.\n",
            "HTTP request sent, awaiting response... 200 OK\n",
            "Length: 862182613 (822M) [application/zip]\n",
            "Saving to: ‘glove.6B.zip’\n",
            "\n",
            "glove.6B.zip        100%[===================>] 822.24M  5.12MB/s    in 2m 39s  \n",
            "\n",
            "2023-05-03 22:40:14 (5.17 MB/s) - ‘glove.6B.zip’ saved [862182613/862182613]\n",
            "\n"
          ]
        }
      ],
      "source": [
        "!wget http://nlp.stanford.edu/data/glove.6B.zip"
      ]
    },
    {
      "cell_type": "code",
      "execution_count": null,
      "metadata": {
        "id": "VfUpcaeP9Y_k",
        "colab": {
          "base_uri": "https://localhost:8080/"
        },
        "outputId": "dfb03354-06c0-4db1-b9d7-11930d21652d"
      },
      "outputs": [
        {
          "output_type": "stream",
          "name": "stdout",
          "text": [
            "Archive:  glove.6B.zip\n",
            "  inflating: embeddings/glove.6B.50d.txt  \n",
            "  inflating: embeddings/glove.6B.100d.txt  \n",
            "  inflating: embeddings/glove.6B.200d.txt  \n",
            "  inflating: embeddings/glove.6B.300d.txt  \n"
          ]
        }
      ],
      "source": [
        "!unzip glove.6B.zip -d embeddings"
      ]
    },
    {
      "cell_type": "markdown",
      "metadata": {
        "id": "QqCBKkUQ5uo3"
      },
      "source": [
        "Load the embedding model"
      ]
    },
    {
      "cell_type": "code",
      "execution_count": null,
      "metadata": {
        "colab": {
          "base_uri": "https://localhost:8080/"
        },
        "id": "eqljIkbiia3n",
        "outputId": "2597580e-b217-4ecf-de8e-daa49d633e97"
      },
      "outputs": [
        {
          "output_type": "stream",
          "name": "stderr",
          "text": [
            "<ipython-input-20-c8d29211e4f3>:15: DeprecationWarning: Call to deprecated `glove2word2vec` (KeyedVectors.load_word2vec_format(.., binary=False, no_header=True) loads GLoVE text vectors.).\n",
            "  glove2word2vec(glove_file, tmp_file)\n"
          ]
        },
        {
          "output_type": "stream",
          "name": "stdout",
          "text": [
            "load model : glove.6B.300d.txt\n",
            "[Model(type='glove', name='glove.6B.300d.txt', dimension=300, corpus='wikipedia+gigaword5', model=<gensim.models.keyedvectors.KeyedVectors object at 0x7fa47ca5dcf0>)]\n"
          ]
        }
      ],
      "source": [
        "from gensim.test.utils import datapath, get_tmpfile\n",
        "from gensim.models import KeyedVectors\n",
        "from gensim.scripts.glove2word2vec import glove2word2vec\n",
        "\n",
        "MAIN_PATH = 'embeddings/'\n",
        "\n",
        "\n",
        "glove_models = []\n",
        "\n",
        "glove_defs = [ Model('glove', 'glove.6B.300d.txt', 300, 'wikipedia+gigaword5', None)]\n",
        "\n",
        "for model in glove_defs:\n",
        "    glove_file = MAIN_PATH + model.name\n",
        "    tmp_file = get_tmpfile(model.name + '-temp')\n",
        "    glove2word2vec(glove_file, tmp_file)\n",
        "    vecs = KeyedVectors.load_word2vec_format(tmp_file)\n",
        "    glove_models.append(Model(model.type, model.name, model.dimension, model.corpus, vecs))\n",
        "    print('load model : {}'.format(model.name))\n",
        "\n",
        "print(glove_models)"
      ]
    },
    {
      "cell_type": "code",
      "source": [
        "from gensim.test.utils import datapath, get_tmpfile\n",
        "from gensim.models import KeyedVectors\n",
        "from gensim.scripts.glove2word2vec import glove2word2vec\n",
        "\n",
        "MAIN_PATH = 'embeddings/'\n",
        "\n",
        "\n",
        "glove_models = []\n",
        "\n",
        "glove_defs = [ Model('glove', 'glove.6B.300d.txt', 300, 'wikipedia+gigaword5', None)]\n",
        "\n",
        "for model in glove_defs:\n",
        "    glove_file = MAIN_PATH + model.name\n",
        "    output_file = glove_file + '.word2vec'\n",
        "    glove2word2vec(glove_file, output_file)"
      ],
      "metadata": {
        "id": "eJXF2Y-_lSSQ",
        "colab": {
          "base_uri": "https://localhost:8080/"
        },
        "outputId": "d20c7735-7a9f-4e3e-cae3-a046efa70cd9"
      },
      "execution_count": null,
      "outputs": [
        {
          "output_type": "stream",
          "name": "stderr",
          "text": [
            "<ipython-input-9-59af8de5c8be>:15: DeprecationWarning: Call to deprecated `glove2word2vec` (KeyedVectors.load_word2vec_format(.., binary=False, no_header=True) loads GLoVE text vectors.).\n",
            "  glove2word2vec(glove_file, output_file)\n"
          ]
        }
      ]
    },
    {
      "cell_type": "markdown",
      "metadata": {
        "id": "3GRQVuEl6h6j"
      },
      "source": [
        "Process the Dataset in order to formated it:"
      ]
    },
    {
      "cell_type": "code",
      "execution_count": null,
      "metadata": {
        "id": "kvG6w6C0ia33"
      },
      "outputs": [],
      "source": [
        "dataframe = datasets[0].train[0:30]\n",
        "\n",
        "def overlaps(start1, end1, start2, end2):\n",
        "    return bool(range(max(start1, start2), min(end1, end2)+1))\n",
        "\n",
        "def extract_ngrams_group(group):\n",
        "    targets = zip(group['target'].values.tolist(), group['start'].values.tolist(),\n",
        "                 group['end'].values.tolist(), group['binary'].values.tolist())\n",
        "    for word, start, end, binary in targets:\n",
        "        tokens = word.split()\n",
        "        if len(tokens)>1:\n",
        "            olap_words = [(w, b) for w, s, e, b in targets if overlaps(start, end, s, e)]\n",
        "\n",
        "\n",
        "grouped = dataframe.groupby('sentence').apply(lambda group : extract_ngrams_group(group))"
      ]
    },
    {
      "cell_type": "code",
      "execution_count": null,
      "metadata": {
        "colab": {
          "base_uri": "https://localhost:8080/"
        },
        "id": "Uu71-KwsFKbL",
        "outputId": "a301d176-fd85-4bcb-9ec5-bc6ec21b3be7"
      },
      "outputs": [
        {
          "output_type": "stream",
          "name": "stdout",
          "text": [
            "49815\n"
          ]
        }
      ],
      "source": [
        "wordlist_lowercased = set(i.lower() for i in brown.words())\n",
        "print (len(wordlist_lowercased))"
      ]
    },
    {
      "cell_type": "code",
      "execution_count": null,
      "metadata": {
        "id": "a1axsJ5Jia4I"
      },
      "outputs": [],
      "source": [
        "tbl = dict.fromkeys(i for i in range(sys.maxunicode)\n",
        "                      if unicodedata.category(chr(i)).startswith('P'))\n",
        "\n",
        "def remove_punctuation(text):\n",
        "    return text.translate(tbl)\n",
        "\n",
        "@lru_cache(maxsize=None)\n",
        "def all_tokens_with_index(context):\n",
        "    curr_pos = 0\n",
        "    targets = []\n",
        "    j = 0\n",
        "    w = 0\n",
        "    curr_split = ''\n",
        "    ctx_split = context.split()\n",
        "    whitespaces = re.findall('\\s+', context)\n",
        "    num_whitespaces = [len(token) for token in whitespaces]\n",
        "    num_whitespaces.append(1)\n",
        "    tokens = word_tokenize(context)\n",
        "    tokens = ['\"' if token not in context else token for token in tokens]\n",
        "    for index, token in enumerate(tokens, 1):\n",
        "        targets.append((token, index, curr_pos, (curr_pos + len(token))))\n",
        "        curr_pos += len(token)\n",
        "        curr_split += token\n",
        "        if ctx_split[j] == curr_split:\n",
        "            curr_pos += num_whitespaces[w]\n",
        "            j += 1\n",
        "            w += 1\n",
        "            curr_split = ''\n",
        "    return [val for val in targets if val[0] != '\"']\n",
        "\n",
        "def build_vocabulary(sentences, embedding_model, dimension):\n",
        "    all_words = [tpl[0] for sentence in sentences for tpl in sentence['seq']] + list(wordlist_lowercased)\n",
        "    print('# Words : {}'.format(len(all_words)))\n",
        "    counter = Counter(all_words)\n",
        "    vocab_size = len(counter) + 1\n",
        "    print('# Vocab : {}'.format(vocab_size))\n",
        "    print('# embeding model  : {}'.format(len(embedding_model.key_to_index)))\n",
        "    word2index = {word : index for index, (word, count) in enumerate(counter.most_common(), 1)}\n",
        "    index2word = {index : word for word, index in word2index.items()}\n",
        "    # +1 required for pad token\n",
        "    embedding_matrix = np.zeros(((vocab_size), dimension))\n",
        "    missing_embed_words = []\n",
        "    i_ = 0\n",
        "    for word, index in word2index.items():\n",
        "        if word in embedding_model.key_to_index:\n",
        "            embedding = embedding_model[word]\n",
        "        else:\n",
        "             i_ +=1\n",
        "             continue\n",
        "        embedding_matrix[index] = embedding\n",
        "    missing_embed_count = len(missing_embed_words)\n",
        "    print('# Words missing embedding : {}'.format(missing_embed_count))\n",
        "    print('Embedding shape : {}'.format(embedding_matrix.shape))\n",
        "    print(\"i: \", i_ )\n",
        "    return word2index, index2word, embedding_matrix\n",
        "\n",
        "def forward_transformation(dataframe, lowercase = True, filter_punc = True, filtering = \"a132\"):\n",
        "    grouped = dataframe.groupby('sentence').apply(lambda row :\n",
        "                        {'sent_id' : list(set(row['sent_id']))[0],\n",
        "                         'sentence' : list(set(row['sentence']))[0],\n",
        "                         'tags': [tag for tag in zip(row['target'],\n",
        "                            row['start'], row['end'], row['binary'], row['prob'])]})\n",
        "    sentences = []\n",
        "    for vals in grouped:\n",
        "        sent_id = vals['sent_id']\n",
        "        sentence = vals['sentence']\n",
        "        tags = vals['tags']\n",
        "        tags_without_labels = [(word, start, end) for word, start, end, binary, prob in tags]\n",
        "        all_tokens = all_tokens_with_index(sentence)\n",
        "        sent_repr = [(word, start, end, tags[tags_without_labels.index((word, start, end))][3],\n",
        "                     tags[tags_without_labels.index((word, start, end))][4])\n",
        "           if (word, start, end) in tags_without_labels\n",
        "          else (word, start, end, 0, 0.0) for word, index, start, end in all_tokens]\n",
        "        if lowercase:\n",
        "            sent_repr = [(word.lower(), start, end, binary, prob)\n",
        "                         for word, start, end, binary, prob in sent_repr]\n",
        "        if filter_punc:\n",
        "            sent_repr = list(filter(lambda vals : remove_punctuation(vals[0]), sent_repr))\n",
        "        if filtering:\n",
        "            sent_repr = list(filter(lambda vals : vals[0] != \"'s\", sent_repr))\n",
        "            sent_repr = list(filter(lambda vals : vals[0] != \"``\", sent_repr))\n",
        "        sentences.append({'sent_id' : sent_id, 'sentence' : sentence, 'seq' : sent_repr})\n",
        "    return sentences\n",
        "\n",
        "def split_sentence_seqs(sentences):\n",
        "    words, start_end, binary, prob = [], [], [] ,[]\n",
        "    for sent in sentences:\n",
        "        sequence = sent['seq']\n",
        "        curr_w, curr_se, curr_b, curr_p = map(list, zip(*[(vals[0],\n",
        "            (vals[1], vals[2]), vals[3], vals[4]) for vals in sequence]))\n",
        "        words.append(curr_w)\n",
        "        start_end.append(curr_se)\n",
        "        binary.append(curr_b)\n",
        "        prob.append(curr_p)\n",
        "    return words, start_end, binary, prob"
      ]
    },
    {
      "cell_type": "code",
      "execution_count": null,
      "metadata": {
        "colab": {
          "base_uri": "https://localhost:8080/"
        },
        "id": "XDje3oWHia4U",
        "outputId": "6c894dae-1db2-4215-a132-a1f0d008fc27"
      },
      "outputs": [
        {
          "output_type": "stream",
          "name": "stderr",
          "text": [
            "<ipython-input-13-6c8d08ca5455>:2: FutureWarning: The frame.append method is deprecated and will be removed from pandas in a future version. Use pandas.concat instead.\n",
            "  datasets[0].train.append(datasets[1].train).append(datasets[2].train), datasets[0].test))\n"
          ]
        }
      ],
      "source": [
        "datasets.append(Dataset('train_all_test_wiki',\n",
        "        datasets[0].train.append(datasets[1].train).append(datasets[2].train), datasets[0].test))"
      ]
    },
    {
      "cell_type": "code",
      "execution_count": null,
      "metadata": {
        "colab": {
          "base_uri": "https://localhost:8080/"
        },
        "id": "TZDkqP8kia4h",
        "outputId": "20c9cccb-2206-4a8e-df64-bf74a3d7053e"
      },
      "outputs": [
        {
          "output_type": "stream",
          "name": "stdout",
          "text": [
            "# Rows train : 27299\n",
            "# Rows test : 694\n",
            "# Rows dataset : 27993\n",
            "# Sents train : 1988\n",
            "# Sents test : 53\n",
            "# Sents dataset : 2041\n"
          ]
        },
        {
          "output_type": "stream",
          "name": "stderr",
          "text": [
            "<ipython-input-14-fa260ecfaaf6>:9: FutureWarning: The frame.append method is deprecated and will be removed from pandas in a future version. Use pandas.concat instead.\n",
            "  dataset = dataset_sel.train.append(dataset_sel.test)\n"
          ]
        }
      ],
      "source": [
        "# Append train and test set\n",
        "dataset_sel = datasets[3]\n",
        "train_num_rows = dataset_sel.train.shape[0]\n",
        "train_num_sents = len(list(set(dataset_sel.train.sentence.values.tolist())))\n",
        "\n",
        "test_num_rows = dataset_sel.test.shape[0]\n",
        "test_num_sents = len(list(set(dataset_sel.test.sentence.values.tolist())))\n",
        "\n",
        "dataset = dataset_sel.train.append(dataset_sel.test)\n",
        "dataset['sent_id'] = dataset.groupby('sentence').ngroup()\n",
        "dataset_num_rows = dataset.shape[0]\n",
        "dataset_num_sents = len(list(set(dataset.sentence.values.tolist())))\n",
        "\n",
        "print('# Rows train : {}'.format(train_num_rows))\n",
        "print('# Rows test : {}'.format(test_num_rows))\n",
        "print('# Rows dataset : {}'.format(dataset_num_rows))\n",
        "\n",
        "print('# Sents train : {}'.format(train_num_sents))\n",
        "print('# Sents test : {}'.format(test_num_sents))\n",
        "print('# Sents dataset : {}'.format(dataset_num_sents))"
      ]
    },
    {
      "cell_type": "markdown",
      "metadata": {
        "id": "RobjIVe3649W"
      },
      "source": [
        "Finally the Dataset to train the model:"
      ]
    },
    {
      "cell_type": "code",
      "execution_count": null,
      "metadata": {
        "id": "GYEiqcrybEO4",
        "colab": {
          "base_uri": "https://localhost:8080/",
          "height": 1000
        },
        "outputId": "97061790-93dd-4913-dfb5-360b821f402d"
      },
      "outputs": [
        {
          "output_type": "execute_result",
          "data": {
            "text/plain": [
              "                                 id  \\\n",
              "0    3XU9MCX6VODXPI3L8I02CM94TFB2R7   \n",
              "1    3XU9MCX6VODXPI3L8I02CM94TFB2R7   \n",
              "2    3XU9MCX6VODXPI3L8I02CM94TFB2R7   \n",
              "3    3XU9MCX6VODXPI3L8I02CM94TFB2R7   \n",
              "4    3XU9MCX6VODXPI3L8I02CM94TFB2R7   \n",
              "..                              ...   \n",
              "689  3W0KKJIARRAMOTSFYF06L10TKN9K8Z   \n",
              "690  3W0KKJIARRAMOTSFYF06L10TKN9K8Z   \n",
              "691  3W0KKJIARRAMOTSFYF06L10TKN9K8Z   \n",
              "692  3W0KKJIARRAMOTSFYF06L10TKN9K8Z   \n",
              "693  3W0KKJIARRAMOTSFYF06L10TKN9K8Z   \n",
              "\n",
              "                                                                                                                                             sentence  \\\n",
              "0    Normally , the land will be passed down to future generations in a way that recognizes the community 's traditional connection to that country .   \n",
              "1    Normally , the land will be passed down to future generations in a way that recognizes the community 's traditional connection to that country .   \n",
              "2    Normally , the land will be passed down to future generations in a way that recognizes the community 's traditional connection to that country .   \n",
              "3    Normally , the land will be passed down to future generations in a way that recognizes the community 's traditional connection to that country .   \n",
              "4    Normally , the land will be passed down to future generations in a way that recognizes the community 's traditional connection to that country .   \n",
              "..                                                                                                                                                ...   \n",
              "689             Devotion ( Bhakti ) will cancel the effects of bad Karma and will bring a person closer to the true knowledge by purifying his mind .   \n",
              "690             Devotion ( Bhakti ) will cancel the effects of bad Karma and will bring a person closer to the true knowledge by purifying his mind .   \n",
              "691             Devotion ( Bhakti ) will cancel the effects of bad Karma and will bring a person closer to the true knowledge by purifying his mind .   \n",
              "692             Devotion ( Bhakti ) will cancel the effects of bad Karma and will bring a person closer to the true knowledge by purifying his mind .   \n",
              "693             Devotion ( Bhakti ) will cancel the effects of bad Karma and will bring a person closer to the true knowledge by purifying his mind .   \n",
              "\n",
              "     start  end              target  nat  non_nat  nat_marked  non_nat_marked  \\\n",
              "0        0    8            Normally   10       10           0               1   \n",
              "1       28   34              passed   10       10           0               1   \n",
              "2       15   19                land   10       10           0               0   \n",
              "3       43   49              future   10       10           1               0   \n",
              "4       43   61  future generations   10       10           1               2   \n",
              "..     ...  ...                 ...  ...      ...         ...             ...   \n",
              "689    100  109           knowledge   10       10           0               2   \n",
              "690     74   80              person   10       10           0               0   \n",
              "691     95   99                true   10       10           0               0   \n",
              "692    113  122           purifying   10       10           7               8   \n",
              "693    127  131                mind   10       10           0               1   \n",
              "\n",
              "     binary  prob  sent_id  \n",
              "0         1  0.05     1347  \n",
              "1         1  0.05     1347  \n",
              "2         0  0.00     1347  \n",
              "3         1  0.05     1347  \n",
              "4         1  0.15     1347  \n",
              "..      ...   ...      ...  \n",
              "689       1  0.10      929  \n",
              "690       0  0.00      929  \n",
              "691       0  0.00      929  \n",
              "692       1  0.75      929  \n",
              "693       1  0.05      929  \n",
              "\n",
              "[27993 rows x 12 columns]"
            ],
            "text/html": [
              "\n",
              "  <div id=\"df-0dcbb440-411b-4bc2-91f3-8a3df9970f98\">\n",
              "    <div class=\"colab-df-container\">\n",
              "      <div>\n",
              "<style scoped>\n",
              "    .dataframe tbody tr th:only-of-type {\n",
              "        vertical-align: middle;\n",
              "    }\n",
              "\n",
              "    .dataframe tbody tr th {\n",
              "        vertical-align: top;\n",
              "    }\n",
              "\n",
              "    .dataframe thead th {\n",
              "        text-align: right;\n",
              "    }\n",
              "</style>\n",
              "<table border=\"1\" class=\"dataframe\">\n",
              "  <thead>\n",
              "    <tr style=\"text-align: right;\">\n",
              "      <th></th>\n",
              "      <th>id</th>\n",
              "      <th>sentence</th>\n",
              "      <th>start</th>\n",
              "      <th>end</th>\n",
              "      <th>target</th>\n",
              "      <th>nat</th>\n",
              "      <th>non_nat</th>\n",
              "      <th>nat_marked</th>\n",
              "      <th>non_nat_marked</th>\n",
              "      <th>binary</th>\n",
              "      <th>prob</th>\n",
              "      <th>sent_id</th>\n",
              "    </tr>\n",
              "  </thead>\n",
              "  <tbody>\n",
              "    <tr>\n",
              "      <th>0</th>\n",
              "      <td>3XU9MCX6VODXPI3L8I02CM94TFB2R7</td>\n",
              "      <td>Normally , the land will be passed down to future generations in a way that recognizes the community 's traditional connection to that country .</td>\n",
              "      <td>0</td>\n",
              "      <td>8</td>\n",
              "      <td>Normally</td>\n",
              "      <td>10</td>\n",
              "      <td>10</td>\n",
              "      <td>0</td>\n",
              "      <td>1</td>\n",
              "      <td>1</td>\n",
              "      <td>0.05</td>\n",
              "      <td>1347</td>\n",
              "    </tr>\n",
              "    <tr>\n",
              "      <th>1</th>\n",
              "      <td>3XU9MCX6VODXPI3L8I02CM94TFB2R7</td>\n",
              "      <td>Normally , the land will be passed down to future generations in a way that recognizes the community 's traditional connection to that country .</td>\n",
              "      <td>28</td>\n",
              "      <td>34</td>\n",
              "      <td>passed</td>\n",
              "      <td>10</td>\n",
              "      <td>10</td>\n",
              "      <td>0</td>\n",
              "      <td>1</td>\n",
              "      <td>1</td>\n",
              "      <td>0.05</td>\n",
              "      <td>1347</td>\n",
              "    </tr>\n",
              "    <tr>\n",
              "      <th>2</th>\n",
              "      <td>3XU9MCX6VODXPI3L8I02CM94TFB2R7</td>\n",
              "      <td>Normally , the land will be passed down to future generations in a way that recognizes the community 's traditional connection to that country .</td>\n",
              "      <td>15</td>\n",
              "      <td>19</td>\n",
              "      <td>land</td>\n",
              "      <td>10</td>\n",
              "      <td>10</td>\n",
              "      <td>0</td>\n",
              "      <td>0</td>\n",
              "      <td>0</td>\n",
              "      <td>0.00</td>\n",
              "      <td>1347</td>\n",
              "    </tr>\n",
              "    <tr>\n",
              "      <th>3</th>\n",
              "      <td>3XU9MCX6VODXPI3L8I02CM94TFB2R7</td>\n",
              "      <td>Normally , the land will be passed down to future generations in a way that recognizes the community 's traditional connection to that country .</td>\n",
              "      <td>43</td>\n",
              "      <td>49</td>\n",
              "      <td>future</td>\n",
              "      <td>10</td>\n",
              "      <td>10</td>\n",
              "      <td>1</td>\n",
              "      <td>0</td>\n",
              "      <td>1</td>\n",
              "      <td>0.05</td>\n",
              "      <td>1347</td>\n",
              "    </tr>\n",
              "    <tr>\n",
              "      <th>4</th>\n",
              "      <td>3XU9MCX6VODXPI3L8I02CM94TFB2R7</td>\n",
              "      <td>Normally , the land will be passed down to future generations in a way that recognizes the community 's traditional connection to that country .</td>\n",
              "      <td>43</td>\n",
              "      <td>61</td>\n",
              "      <td>future generations</td>\n",
              "      <td>10</td>\n",
              "      <td>10</td>\n",
              "      <td>1</td>\n",
              "      <td>2</td>\n",
              "      <td>1</td>\n",
              "      <td>0.15</td>\n",
              "      <td>1347</td>\n",
              "    </tr>\n",
              "    <tr>\n",
              "      <th>...</th>\n",
              "      <td>...</td>\n",
              "      <td>...</td>\n",
              "      <td>...</td>\n",
              "      <td>...</td>\n",
              "      <td>...</td>\n",
              "      <td>...</td>\n",
              "      <td>...</td>\n",
              "      <td>...</td>\n",
              "      <td>...</td>\n",
              "      <td>...</td>\n",
              "      <td>...</td>\n",
              "      <td>...</td>\n",
              "    </tr>\n",
              "    <tr>\n",
              "      <th>689</th>\n",
              "      <td>3W0KKJIARRAMOTSFYF06L10TKN9K8Z</td>\n",
              "      <td>Devotion ( Bhakti ) will cancel the effects of bad Karma and will bring a person closer to the true knowledge by purifying his mind .</td>\n",
              "      <td>100</td>\n",
              "      <td>109</td>\n",
              "      <td>knowledge</td>\n",
              "      <td>10</td>\n",
              "      <td>10</td>\n",
              "      <td>0</td>\n",
              "      <td>2</td>\n",
              "      <td>1</td>\n",
              "      <td>0.10</td>\n",
              "      <td>929</td>\n",
              "    </tr>\n",
              "    <tr>\n",
              "      <th>690</th>\n",
              "      <td>3W0KKJIARRAMOTSFYF06L10TKN9K8Z</td>\n",
              "      <td>Devotion ( Bhakti ) will cancel the effects of bad Karma and will bring a person closer to the true knowledge by purifying his mind .</td>\n",
              "      <td>74</td>\n",
              "      <td>80</td>\n",
              "      <td>person</td>\n",
              "      <td>10</td>\n",
              "      <td>10</td>\n",
              "      <td>0</td>\n",
              "      <td>0</td>\n",
              "      <td>0</td>\n",
              "      <td>0.00</td>\n",
              "      <td>929</td>\n",
              "    </tr>\n",
              "    <tr>\n",
              "      <th>691</th>\n",
              "      <td>3W0KKJIARRAMOTSFYF06L10TKN9K8Z</td>\n",
              "      <td>Devotion ( Bhakti ) will cancel the effects of bad Karma and will bring a person closer to the true knowledge by purifying his mind .</td>\n",
              "      <td>95</td>\n",
              "      <td>99</td>\n",
              "      <td>true</td>\n",
              "      <td>10</td>\n",
              "      <td>10</td>\n",
              "      <td>0</td>\n",
              "      <td>0</td>\n",
              "      <td>0</td>\n",
              "      <td>0.00</td>\n",
              "      <td>929</td>\n",
              "    </tr>\n",
              "    <tr>\n",
              "      <th>692</th>\n",
              "      <td>3W0KKJIARRAMOTSFYF06L10TKN9K8Z</td>\n",
              "      <td>Devotion ( Bhakti ) will cancel the effects of bad Karma and will bring a person closer to the true knowledge by purifying his mind .</td>\n",
              "      <td>113</td>\n",
              "      <td>122</td>\n",
              "      <td>purifying</td>\n",
              "      <td>10</td>\n",
              "      <td>10</td>\n",
              "      <td>7</td>\n",
              "      <td>8</td>\n",
              "      <td>1</td>\n",
              "      <td>0.75</td>\n",
              "      <td>929</td>\n",
              "    </tr>\n",
              "    <tr>\n",
              "      <th>693</th>\n",
              "      <td>3W0KKJIARRAMOTSFYF06L10TKN9K8Z</td>\n",
              "      <td>Devotion ( Bhakti ) will cancel the effects of bad Karma and will bring a person closer to the true knowledge by purifying his mind .</td>\n",
              "      <td>127</td>\n",
              "      <td>131</td>\n",
              "      <td>mind</td>\n",
              "      <td>10</td>\n",
              "      <td>10</td>\n",
              "      <td>0</td>\n",
              "      <td>1</td>\n",
              "      <td>1</td>\n",
              "      <td>0.05</td>\n",
              "      <td>929</td>\n",
              "    </tr>\n",
              "  </tbody>\n",
              "</table>\n",
              "<p>27993 rows × 12 columns</p>\n",
              "</div>\n",
              "      <button class=\"colab-df-convert\" onclick=\"convertToInteractive('df-0dcbb440-411b-4bc2-91f3-8a3df9970f98')\"\n",
              "              title=\"Convert this dataframe to an interactive table.\"\n",
              "              style=\"display:none;\">\n",
              "        \n",
              "  <svg xmlns=\"http://www.w3.org/2000/svg\" height=\"24px\"viewBox=\"0 0 24 24\"\n",
              "       width=\"24px\">\n",
              "    <path d=\"M0 0h24v24H0V0z\" fill=\"none\"/>\n",
              "    <path d=\"M18.56 5.44l.94 2.06.94-2.06 2.06-.94-2.06-.94-.94-2.06-.94 2.06-2.06.94zm-11 1L8.5 8.5l.94-2.06 2.06-.94-2.06-.94L8.5 2.5l-.94 2.06-2.06.94zm10 10l.94 2.06.94-2.06 2.06-.94-2.06-.94-.94-2.06-.94 2.06-2.06.94z\"/><path d=\"M17.41 7.96l-1.37-1.37c-.4-.4-.92-.59-1.43-.59-.52 0-1.04.2-1.43.59L10.3 9.45l-7.72 7.72c-.78.78-.78 2.05 0 2.83L4 21.41c.39.39.9.59 1.41.59.51 0 1.02-.2 1.41-.59l7.78-7.78 2.81-2.81c.8-.78.8-2.07 0-2.86zM5.41 20L4 18.59l7.72-7.72 1.47 1.35L5.41 20z\"/>\n",
              "  </svg>\n",
              "      </button>\n",
              "      \n",
              "  <style>\n",
              "    .colab-df-container {\n",
              "      display:flex;\n",
              "      flex-wrap:wrap;\n",
              "      gap: 12px;\n",
              "    }\n",
              "\n",
              "    .colab-df-convert {\n",
              "      background-color: #E8F0FE;\n",
              "      border: none;\n",
              "      border-radius: 50%;\n",
              "      cursor: pointer;\n",
              "      display: none;\n",
              "      fill: #1967D2;\n",
              "      height: 32px;\n",
              "      padding: 0 0 0 0;\n",
              "      width: 32px;\n",
              "    }\n",
              "\n",
              "    .colab-df-convert:hover {\n",
              "      background-color: #E2EBFA;\n",
              "      box-shadow: 0px 1px 2px rgba(60, 64, 67, 0.3), 0px 1px 3px 1px rgba(60, 64, 67, 0.15);\n",
              "      fill: #174EA6;\n",
              "    }\n",
              "\n",
              "    [theme=dark] .colab-df-convert {\n",
              "      background-color: #3B4455;\n",
              "      fill: #D2E3FC;\n",
              "    }\n",
              "\n",
              "    [theme=dark] .colab-df-convert:hover {\n",
              "      background-color: #434B5C;\n",
              "      box-shadow: 0px 1px 3px 1px rgba(0, 0, 0, 0.15);\n",
              "      filter: drop-shadow(0px 1px 2px rgba(0, 0, 0, 0.3));\n",
              "      fill: #FFFFFF;\n",
              "    }\n",
              "  </style>\n",
              "\n",
              "      <script>\n",
              "        const buttonEl =\n",
              "          document.querySelector('#df-0dcbb440-411b-4bc2-91f3-8a3df9970f98 button.colab-df-convert');\n",
              "        buttonEl.style.display =\n",
              "          google.colab.kernel.accessAllowed ? 'block' : 'none';\n",
              "\n",
              "        async function convertToInteractive(key) {\n",
              "          const element = document.querySelector('#df-0dcbb440-411b-4bc2-91f3-8a3df9970f98');\n",
              "          const dataTable =\n",
              "            await google.colab.kernel.invokeFunction('convertToInteractive',\n",
              "                                                     [key], {});\n",
              "          if (!dataTable) return;\n",
              "\n",
              "          const docLinkHtml = 'Like what you see? Visit the ' +\n",
              "            '<a target=\"_blank\" href=https://colab.research.google.com/notebooks/data_table.ipynb>data table notebook</a>'\n",
              "            + ' to learn more about interactive tables.';\n",
              "          element.innerHTML = '';\n",
              "          dataTable['output_type'] = 'display_data';\n",
              "          await google.colab.output.renderOutput(dataTable, element);\n",
              "          const docLink = document.createElement('div');\n",
              "          docLink.innerHTML = docLinkHtml;\n",
              "          element.appendChild(docLink);\n",
              "        }\n",
              "      </script>\n",
              "    </div>\n",
              "  </div>\n",
              "  "
            ]
          },
          "metadata": {},
          "execution_count": 15
        }
      ],
      "source": [
        "dataset"
      ]
    },
    {
      "cell_type": "code",
      "execution_count": null,
      "metadata": {
        "id": "MplXgHaiia40"
      },
      "outputs": [],
      "source": [
        "sentences = forward_transformation(dataset)\n",
        "train_sentences = sentences[:train_num_sents]\n",
        "test_sentences = sentences[train_num_sents:]"
      ]
    },
    {
      "cell_type": "code",
      "execution_count": null,
      "metadata": {
        "id": "u99Mj7Xcia5L"
      },
      "outputs": [],
      "source": [
        "words, start_end, binary, prob = split_sentence_seqs(sentences)"
      ]
    },
    {
      "cell_type": "code",
      "execution_count": null,
      "metadata": {
        "id": "RtMawZoJia5W"
      },
      "outputs": [],
      "source": [
        "sentence_lens = [len(sent) for sent in words]"
      ]
    },
    {
      "cell_type": "markdown",
      "metadata": {
        "id": "PuhY0kB07BRo"
      },
      "source": [
        "The dimensions of the embedding and vectors for the model:"
      ]
    },
    {
      "cell_type": "code",
      "execution_count": null,
      "metadata": {
        "colab": {
          "base_uri": "https://localhost:8080/"
        },
        "id": "Dw2BjkUGia6B",
        "outputId": "16491a21-ac48-4265-da52-dcd7cb360cdb"
      },
      "outputs": [
        {
          "output_type": "stream",
          "name": "stdout",
          "text": [
            "# Words : 96437\n",
            "# Vocab : 52455\n",
            "# embeding model  : 400000\n",
            "# Words missing embedding : 0\n",
            "Embedding shape : (52455, 300)\n",
            "i:  9834\n"
          ]
        }
      ],
      "source": [
        "embedding_model = glove_models[0].model\n",
        "dimension = embedding_model.vector_size\n",
        "word2index, index2word, embedding = build_vocabulary(sentences, embedding_model, dimension)"
      ]
    },
    {
      "cell_type": "markdown",
      "metadata": {
        "id": "ZwQAks4z76Bk"
      },
      "source": [
        "## Padding the input sequences and get the binaries labels"
      ]
    },
    {
      "cell_type": "code",
      "execution_count": null,
      "metadata": {
        "colab": {
          "base_uri": "https://localhost:8080/"
        },
        "id": "jTBmTLM_ia6b",
        "outputId": "3bf0141c-7a71-4c8e-b882-a28e9a94375e"
      },
      "outputs": [
        {
          "output_type": "stream",
          "name": "stdout",
          "text": [
            "Max length sentence : 103\n"
          ]
        }
      ],
      "source": [
        "\n",
        "words_with_indices = [[word2index[word] for word in sent] for sent in words]\n",
        "sent_lens = [len(sentence['seq']) for sentence in sentences]\n",
        "sent_max_length = np.max(sent_lens)\n",
        "print('Max length sentence : {}'.format(sent_max_length))\n",
        "\n",
        "from tensorflow.keras.preprocessing.sequence import pad_sequences\n",
        "from keras.utils import to_categorical\n",
        "\n",
        "words_padded = pad_sequences(maxlen=sent_max_length, sequences=words_with_indices, padding=\"post\", value=0)\n",
        "binary_padded = pad_sequences(maxlen=sent_max_length, sequences=binary, padding=\"post\", value=0)\n",
        "prob_padded = pad_sequences(maxlen=sent_max_length, sequences=prob, padding=\"post\", value=0, dtype=\"float\")\n",
        "\n",
        "binary_padded_categorical = [to_categorical(clazz, num_classes=2) for clazz in binary_padded]"
      ]
    },
    {
      "cell_type": "markdown",
      "metadata": {
        "id": "4BZhRBLd70kZ"
      },
      "source": [
        "# Split the to train and test set\n"
      ]
    },
    {
      "cell_type": "code",
      "execution_count": null,
      "metadata": {
        "colab": {
          "base_uri": "https://localhost:8080/"
        },
        "id": "oN1hQu-Zia6m",
        "outputId": "0981fa0a-9e66-44da-e531-12db3731a066"
      },
      "outputs": [
        {
          "output_type": "stream",
          "name": "stdout",
          "text": [
            "Training set length : 1988\n",
            "Test set length : 53\n"
          ]
        }
      ],
      "source": [
        "\n",
        "# (1) Training set\n",
        "train_words_padded = words_padded[:train_num_sents]\n",
        "train_binary_padded = binary_padded[:train_num_sents]\n",
        "train_binary_padded_categorical = binary_padded_categorical[:train_num_sents]\n",
        "train_prob_padded = prob_padded[:train_num_sents]\n",
        "train_start_end = start_end[:train_num_sents]\n",
        "\n",
        "# (2) Test set\n",
        "test_words_padded = words_padded[train_num_sents:]\n",
        "test_binary_padded = binary_padded[train_num_sents:]\n",
        "test_binary_padded_categorical = binary_padded_categorical[train_num_sents:]\n",
        "test_prob_padded = prob_padded[train_num_sents:]\n",
        "test_start_end = start_end[train_num_sents:]\n",
        "\n",
        "print('Training set length : {}'.format(len(train_words_padded)))\n",
        "print('Test set length : {}'.format(len(test_words_padded)))"
      ]
    },
    {
      "cell_type": "markdown",
      "metadata": {
        "id": "J4bac9cJ8VRl"
      },
      "source": [
        "## Create a kera's callback to validate the model on train"
      ]
    },
    {
      "cell_type": "code",
      "execution_count": null,
      "metadata": {
        "id": "xkS5oYETia61"
      },
      "outputs": [],
      "source": [
        "from sklearn.metrics import f1_score\n",
        "import keras.callbacks\n",
        "from keras import backend as K\n",
        "class Metrics(keras.callbacks.Callback):\n",
        "    def __init__(self, validation_data):\n",
        "        self.f1_scores = []\n",
        "        self.validation_data = validation_data\n",
        "\n",
        "    def on_epoch_end(self, batch, logs={}):\n",
        "        predict = np.asarray(self.model.predict(self.validation_data[0]))\n",
        "        targ = self.validation_data[1]\n",
        "        targ = np.array(targ)\n",
        "        shape = targ.shape\n",
        "        targ = targ.reshape((shape[0]*shape[1], shape[2]))\n",
        "        targ = np.argmax(targ, axis = 1)\n",
        "        predict = predict.reshape((shape[0]*shape[1]), shape[2])\n",
        "        predict = np.argmax(predict, axis = 1)\n",
        "        self.f1s=f1_score(targ, predict)\n",
        "        print(\"\\nF1 Score:\")\n",
        "        print(f1_score(targ, np.ones(shape[0]*shape[1])))\n",
        "        self.f1_scores.append(self.f1s)\n",
        "        return"
      ]
    },
    {
      "cell_type": "markdown",
      "metadata": {
        "id": "dj66fbej8nZc"
      },
      "source": [
        "## Create the keras model for the Complex Word Identification task"
      ]
    },
    {
      "cell_type": "code",
      "execution_count": null,
      "metadata": {
        "colab": {
          "base_uri": "https://localhost:8080/"
        },
        "id": "4vNLhlSOia7P",
        "outputId": "50f9750d-b640-42e0-9db9-68dfd34bd5fa"
      },
      "outputs": [
        {
          "output_type": "stream",
          "name": "stderr",
          "text": [
            "WARNING:tensorflow:Layer lstm_2 will not use cuDNN kernels since it doesn't meet the criteria. It will use a generic GPU kernel as fallback when running on GPU.\n",
            "WARNING:tensorflow:Layer lstm_2 will not use cuDNN kernels since it doesn't meet the criteria. It will use a generic GPU kernel as fallback when running on GPU.\n",
            "WARNING:tensorflow:Layer lstm_2 will not use cuDNN kernels since it doesn't meet the criteria. It will use a generic GPU kernel as fallback when running on GPU.\n"
          ]
        },
        {
          "output_type": "stream",
          "name": "stdout",
          "text": [
            "Model: \"model_1\"\n",
            "_________________________________________________________________\n",
            " Layer (type)                Output Shape              Param #   \n",
            "=================================================================\n",
            " input_3 (InputLayer)        [(None, 103)]             0         \n",
            "                                                                 \n",
            " embedding_2 (Embedding)     (None, 103, 300)          15736500  \n",
            "                                                                 \n",
            " dropout_2 (Dropout)         (None, 103, 300)          0         \n",
            "                                                                 \n",
            " bidirectional_2 (Bidirectio  (None, 103, 300)         541200    \n",
            " nal)                                                            \n",
            "                                                                 \n",
            " time_distributed_1 (TimeDis  (None, 103, 2)           602       \n",
            " tributed)                                                       \n",
            "                                                                 \n",
            "=================================================================\n",
            "Total params: 16,278,302\n",
            "Trainable params: 16,278,302\n",
            "Non-trainable params: 0\n",
            "_________________________________________________________________\n"
          ]
        }
      ],
      "source": [
        "from keras.models import Model\n",
        "from tensorflow.keras.layers import Input\n",
        "from keras import backend as K\n",
        "from keras.layers import LSTM, Embedding, Dense, TimeDistributed, Dropout, Bidirectional,BatchNormalization\n",
        "\n",
        "vocab_size = embedding.shape[0]\n",
        "dimension = embedding.shape[1]\n",
        "\n",
        "np.set_printoptions(threshold=np.inf)\n",
        "\n",
        "in_seq = Input(shape=(sent_max_length,))\n",
        "embed = Embedding(input_dim=vocab_size, output_dim=dimension, \\\n",
        "                  weights=[embedding], input_length=sent_max_length)(in_seq)\n",
        "drop = Dropout(0.1)(embed)\n",
        "lstm = Bidirectional(LSTM(units=150, return_sequences=True, recurrent_dropout=0.1))(drop)\n",
        "out = TimeDistributed(Dense(2, activation=\"softmax\"))(lstm)\n",
        "\n",
        "model = Model(in_seq, out)\n",
        "\n",
        "model.compile(optimizer=\"adam\", loss='categorical_crossentropy', metrics=[\"accuracy\"])\n",
        "model.summary()\n",
        "\n",
        "metrics = Metrics((test_words_padded, np.array(test_binary_padded_categorical)))\n"
      ]
    },
    {
      "cell_type": "markdown",
      "metadata": {
        "id": "5_otFVjW8y6q"
      },
      "source": [
        "And Train it:"
      ]
    },
    {
      "cell_type": "code",
      "execution_count": null,
      "metadata": {
        "colab": {
          "base_uri": "https://localhost:8080/"
        },
        "id": "UrkzrTixia7e",
        "outputId": "456d08a5-d847-4156-855c-277ad682365b"
      },
      "outputs": [
        {
          "output_type": "stream",
          "name": "stdout",
          "text": [
            "Epoch 1/3\n",
            "2/2 [==============================] - 1s 85ms/step\n",
            "\n",
            "F1 Score:\n",
            "0.05660377358490566\n",
            "199/199 [==============================] - 187s 855ms/step - loss: 0.0847 - accuracy: 0.9681 - val_loss: 0.0465 - val_accuracy: 0.9786\n",
            "Epoch 2/3\n",
            "2/2 [==============================] - 0s 81ms/step\n",
            "\n",
            "F1 Score:\n",
            "0.05660377358490566\n",
            "199/199 [==============================] - 156s 785ms/step - loss: 0.0402 - accuracy: 0.9827 - val_loss: 0.0427 - val_accuracy: 0.9802\n",
            "Epoch 3/3\n",
            "2/2 [==============================] - 0s 61ms/step\n",
            "\n",
            "F1 Score:\n",
            "0.05660377358490566\n",
            "199/199 [==============================] - 150s 750ms/step - loss: 0.0300 - accuracy: 0.9873 - val_loss: 0.0453 - val_accuracy: 0.9806\n"
          ]
        }
      ],
      "source": [
        "history = model.fit(train_words_padded, np.array(train_binary_padded_categorical), batch_size=10,\n",
        "                    epochs=3, validation_data = (test_words_padded, np.array(test_binary_padded_categorical)),\n",
        "                    verbose=1, callbacks=[metrics])"
      ]
    },
    {
      "cell_type": "markdown",
      "metadata": {
        "id": "WEEbSlhi9DgR"
      },
      "source": [
        "Now let´s plot some chart to see the model performance:"
      ]
    },
    {
      "cell_type": "code",
      "execution_count": null,
      "metadata": {
        "id": "x7RJGF8rMQoe",
        "colab": {
          "base_uri": "https://localhost:8080/",
          "height": 472
        },
        "outputId": "b7741924-011a-46bd-dc2e-034d8c1a7c6e"
      },
      "outputs": [
        {
          "output_type": "display_data",
          "data": {
            "text/plain": [
              "<Figure size 640x480 with 1 Axes>"
            ],
            "image/png": "[encoded data removed]"
          },
          "metadata": {}
        }
      ],
      "source": [
        "plt.plot(history.history['loss'])\n",
        "plt.plot(history.history['val_loss'])\n",
        "plt.title('model loss')\n",
        "plt.ylabel('loss')\n",
        "plt.xlabel('epoch')\n",
        "plt.legend(['train', 'validation'], loc='upper left')\n",
        "plt.show()"
      ]
    },
    {
      "cell_type": "markdown",
      "metadata": {
        "id": "mnrEnuuA2lAe"
      },
      "source": [
        "The F1 Score"
      ]
    },
    {
      "cell_type": "code",
      "execution_count": null,
      "metadata": {
        "id": "4x3xLps3ia7o",
        "colab": {
          "base_uri": "https://localhost:8080/",
          "height": 430
        },
        "outputId": "e81535e8-07ef-47c8-ecd8-00c781ef5b2c"
      },
      "outputs": [
        {
          "output_type": "display_data",
          "data": {
            "text/plain": [
              "<Figure size 640x480 with 1 Axes>"
            ],
            "image/png": "[encoded data removed]"
          },
          "metadata": {}
        }
      ],
      "source": [
        "import seaborn as sns\n",
        "sns.set_style(\"darkgrid\")\n",
        "epoch_f1s = plt.plot(metrics.f1_scores)\n",
        "plt.show()"
      ]
    },
    {
      "cell_type": "code",
      "source": [
        "from keras.optimizers import Adam\n",
        "optimizer = Adam(lr=0.05)\n",
        "in_seq = Input(shape=(sent_max_length,))\n",
        "embed = Embedding(input_dim=vocab_size, output_dim=dimension, \\\n",
        "                  weights=[embedding], input_length=sent_max_length)(in_seq)\n",
        "drop1 = Dropout(0.3)(embed)\n",
        "lstm1 = Bidirectional(LSTM(units=150, return_sequences=True, recurrent_dropout=0.1))(drop1)\n",
        "bn1 = BatchNormalization()(lstm1)\n",
        "drop2 = Dropout(0.5)(bn1)\n",
        "lstm2 = LSTM(units=150, return_sequences=True, recurrent_dropout=0.1)(drop2)\n",
        "bn2 = BatchNormalization()(lstm2)\n",
        "out = TimeDistributed(Dense(2, activation=\"softmax\"))(bn2)\n",
        "\n",
        "model = Model(in_seq, out)\n",
        "model.compile(loss='categorical_crossentropy', optimizer=optimizer, metrics=['accuracy'])\n",
        "model.summary()\n",
        "\n",
        "metrics = Metrics((test_words_padded, np.array(test_binary_padded_categorical)))"
      ],
      "metadata": {
        "colab": {
          "base_uri": "https://localhost:8080/"
        },
        "id": "ffkAZjeADInu",
        "outputId": "7aa3b4be-35b1-4d70-aa5d-11b120396ecc"
      },
      "execution_count": null,
      "outputs": [
        {
          "output_type": "stream",
          "name": "stderr",
          "text": [
            "/usr/local/lib/python3.10/dist-packages/keras/optimizers/legacy/adam.py:117: UserWarning: The `lr` argument is deprecated, use `learning_rate` instead.\n",
            "  super().__init__(name, **kwargs)\n",
            "WARNING:tensorflow:Layer lstm_9 will not use cuDNN kernels since it doesn't meet the criteria. It will use a generic GPU kernel as fallback when running on GPU.\n",
            "WARNING:tensorflow:Layer lstm_9 will not use cuDNN kernels since it doesn't meet the criteria. It will use a generic GPU kernel as fallback when running on GPU.\n",
            "WARNING:tensorflow:Layer lstm_9 will not use cuDNN kernels since it doesn't meet the criteria. It will use a generic GPU kernel as fallback when running on GPU.\n",
            "WARNING:tensorflow:Layer lstm_10 will not use cuDNN kernels since it doesn't meet the criteria. It will use a generic GPU kernel as fallback when running on GPU.\n"
          ]
        },
        {
          "output_type": "stream",
          "name": "stdout",
          "text": [
            "Model: \"model_5\"\n",
            "_________________________________________________________________\n",
            " Layer (type)                Output Shape              Param #   \n",
            "=================================================================\n",
            " input_7 (InputLayer)        [(None, 103)]             0         \n",
            "                                                                 \n",
            " embedding_6 (Embedding)     (None, 103, 300)          15736500  \n",
            "                                                                 \n",
            " dropout_9 (Dropout)         (None, 103, 300)          0         \n",
            "                                                                 \n",
            " bidirectional_6 (Bidirectio  (None, 103, 300)         541200    \n",
            " nal)                                                            \n",
            "                                                                 \n",
            " batch_normalization_6 (Batc  (None, 103, 300)         1200      \n",
            " hNormalization)                                                 \n",
            "                                                                 \n",
            " dropout_10 (Dropout)        (None, 103, 300)          0         \n",
            "                                                                 \n",
            " lstm_10 (LSTM)              (None, 103, 150)          270600    \n",
            "                                                                 \n",
            " batch_normalization_7 (Batc  (None, 103, 150)         600       \n",
            " hNormalization)                                                 \n",
            "                                                                 \n",
            " time_distributed_5 (TimeDis  (None, 103, 2)           302       \n",
            " tributed)                                                       \n",
            "                                                                 \n",
            "=================================================================\n",
            "Total params: 16,550,402\n",
            "Trainable params: 16,549,502\n",
            "Non-trainable params: 900\n",
            "_________________________________________________________________\n"
          ]
        }
      ]
    },
    {
      "cell_type": "code",
      "source": [
        "history = model.fit(train_words_padded, np.array(train_binary_padded_categorical), batch_size=10,\n",
        "                    epochs=3, validation_data = (test_words_padded, np.array(test_binary_padded_categorical)),\n",
        "                    verbose=1, callbacks=[metrics])"
      ],
      "metadata": {
        "colab": {
          "base_uri": "https://localhost:8080/",
          "height": 391
        },
        "id": "1aV671jtD9vz",
        "outputId": "a2ee8e78-35f4-4c45-b326-cc5854bc5ba0"
      },
      "execution_count": null,
      "outputs": [
        {
          "output_type": "stream",
          "name": "stdout",
          "text": [
            "Epoch 1/3\n",
            "117/199 [================>.............] - ETA: 1:34 - loss: 0.1619 - accuracy: 0.9455"
          ]
        },
        {
          "output_type": "error",
          "ename": "KeyboardInterrupt",
          "evalue": "ignored",
          "traceback": [
            "\u001b[0;31m---------------------------------------------------------------------------\u001b[0m",
            "\u001b[0;31mKeyboardInterrupt\u001b[0m                         Traceback (most recent call last)",
            "\u001b[0;32m<ipython-input-41-9963675ec4e8>\u001b[0m in \u001b[0;36m<cell line: 1>\u001b[0;34m()\u001b[0m\n\u001b[0;32m----> 1\u001b[0;31m history = model.fit(train_words_padded, np.array(train_binary_padded_categorical), batch_size=10, \n\u001b[0m\u001b[1;32m      2\u001b[0m                     \u001b[0mepochs\u001b[0m\u001b[0;34m=\u001b[0m\u001b[0;36m3\u001b[0m\u001b[0;34m,\u001b[0m \u001b[0mvalidation_data\u001b[0m \u001b[0;34m=\u001b[0m \u001b[0;34m(\u001b[0m\u001b[0mtest_words_padded\u001b[0m\u001b[0;34m,\u001b[0m \u001b[0mnp\u001b[0m\u001b[0;34m.\u001b[0m\u001b[0marray\u001b[0m\u001b[0;34m(\u001b[0m\u001b[0mtest_binary_padded_categorical\u001b[0m\u001b[0;34m)\u001b[0m\u001b[0;34m)\u001b[0m\u001b[0;34m,\u001b[0m\u001b[0;34m\u001b[0m\u001b[0;34m\u001b[0m\u001b[0m\n\u001b[1;32m      3\u001b[0m                     verbose=1, callbacks=[metrics])\n",
            "\u001b[0;32m/usr/local/lib/python3.10/dist-packages/keras/utils/traceback_utils.py\u001b[0m in \u001b[0;36merror_handler\u001b[0;34m(*args, **kwargs)\u001b[0m\n\u001b[1;32m     63\u001b[0m         \u001b[0mfiltered_tb\u001b[0m \u001b[0;34m=\u001b[0m \u001b[0;32mNone\u001b[0m\u001b[0;34m\u001b[0m\u001b[0;34m\u001b[0m\u001b[0m\n\u001b[1;32m     64\u001b[0m         \u001b[0;32mtry\u001b[0m\u001b[0;34m:\u001b[0m\u001b[0;34m\u001b[0m\u001b[0;34m\u001b[0m\u001b[0m\n\u001b[0;32m---> 65\u001b[0;31m             \u001b[0;32mreturn\u001b[0m \u001b[0mfn\u001b[0m\u001b[0;34m(\u001b[0m\u001b[0;34m*\u001b[0m\u001b[0margs\u001b[0m\u001b[0;34m,\u001b[0m \u001b[0;34m**\u001b[0m\u001b[0mkwargs\u001b[0m\u001b[0;34m)\u001b[0m\u001b[0;34m\u001b[0m\u001b[0;34m\u001b[0m\u001b[0m\n\u001b[0m\u001b[1;32m     66\u001b[0m         \u001b[0;32mexcept\u001b[0m \u001b[0mException\u001b[0m \u001b[0;32mas\u001b[0m \u001b[0me\u001b[0m\u001b[0;34m:\u001b[0m\u001b[0;34m\u001b[0m\u001b[0;34m\u001b[0m\u001b[0m\n\u001b[1;32m     67\u001b[0m             \u001b[0mfiltered_tb\u001b[0m \u001b[0;34m=\u001b[0m \u001b[0m_process_traceback_frames\u001b[0m\u001b[0;34m(\u001b[0m\u001b[0me\u001b[0m\u001b[0;34m.\u001b[0m\u001b[0m__traceback__\u001b[0m\u001b[0;34m)\u001b[0m\u001b[0;34m\u001b[0m\u001b[0;34m\u001b[0m\u001b[0m\n",
            "\u001b[0;32m/usr/local/lib/python3.10/dist-packages/keras/engine/training.py\u001b[0m in \u001b[0;36mfit\u001b[0;34m(self, x, y, batch_size, epochs, verbose, callbacks, validation_split, validation_data, shuffle, class_weight, sample_weight, initial_epoch, steps_per_epoch, validation_steps, validation_batch_size, validation_freq, max_queue_size, workers, use_multiprocessing)\u001b[0m\n\u001b[1;32m   1683\u001b[0m                         ):\n\u001b[1;32m   1684\u001b[0m                             \u001b[0mcallbacks\u001b[0m\u001b[0;34m.\u001b[0m\u001b[0mon_train_batch_begin\u001b[0m\u001b[0;34m(\u001b[0m\u001b[0mstep\u001b[0m\u001b[0;34m)\u001b[0m\u001b[0;34m\u001b[0m\u001b[0;34m\u001b[0m\u001b[0m\n\u001b[0;32m-> 1685\u001b[0;31m                             \u001b[0mtmp_logs\u001b[0m \u001b[0;34m=\u001b[0m \u001b[0mself\u001b[0m\u001b[0;34m.\u001b[0m\u001b[0mtrain_function\u001b[0m\u001b[0;34m(\u001b[0m\u001b[0miterator\u001b[0m\u001b[0;34m)\u001b[0m\u001b[0;34m\u001b[0m\u001b[0;34m\u001b[0m\u001b[0m\n\u001b[0m\u001b[1;32m   1686\u001b[0m                             \u001b[0;32mif\u001b[0m \u001b[0mdata_handler\u001b[0m\u001b[0;34m.\u001b[0m\u001b[0mshould_sync\u001b[0m\u001b[0;34m:\u001b[0m\u001b[0;34m\u001b[0m\u001b[0;34m\u001b[0m\u001b[0m\n\u001b[1;32m   1687\u001b[0m                                 \u001b[0mcontext\u001b[0m\u001b[0;34m.\u001b[0m\u001b[0masync_wait\u001b[0m\u001b[0;34m(\u001b[0m\u001b[0;34m)\u001b[0m\u001b[0;34m\u001b[0m\u001b[0;34m\u001b[0m\u001b[0m\n",
            "\u001b[0;32m/usr/local/lib/python3.10/dist-packages/tensorflow/python/util/traceback_utils.py\u001b[0m in \u001b[0;36merror_handler\u001b[0;34m(*args, **kwargs)\u001b[0m\n\u001b[1;32m    148\u001b[0m     \u001b[0mfiltered_tb\u001b[0m \u001b[0;34m=\u001b[0m \u001b[0;32mNone\u001b[0m\u001b[0;34m\u001b[0m\u001b[0;34m\u001b[0m\u001b[0m\n\u001b[1;32m    149\u001b[0m     \u001b[0;32mtry\u001b[0m\u001b[0;34m:\u001b[0m\u001b[0;34m\u001b[0m\u001b[0;34m\u001b[0m\u001b[0m\n\u001b[0;32m--> 150\u001b[0;31m       \u001b[0;32mreturn\u001b[0m \u001b[0mfn\u001b[0m\u001b[0;34m(\u001b[0m\u001b[0;34m*\u001b[0m\u001b[0margs\u001b[0m\u001b[0;34m,\u001b[0m \u001b[0;34m**\u001b[0m\u001b[0mkwargs\u001b[0m\u001b[0;34m)\u001b[0m\u001b[0;34m\u001b[0m\u001b[0;34m\u001b[0m\u001b[0m\n\u001b[0m\u001b[1;32m    151\u001b[0m     \u001b[0;32mexcept\u001b[0m \u001b[0mException\u001b[0m \u001b[0;32mas\u001b[0m \u001b[0me\u001b[0m\u001b[0;34m:\u001b[0m\u001b[0;34m\u001b[0m\u001b[0;34m\u001b[0m\u001b[0m\n\u001b[1;32m    152\u001b[0m       \u001b[0mfiltered_tb\u001b[0m \u001b[0;34m=\u001b[0m \u001b[0m_process_traceback_frames\u001b[0m\u001b[0;34m(\u001b[0m\u001b[0me\u001b[0m\u001b[0;34m.\u001b[0m\u001b[0m__traceback__\u001b[0m\u001b[0;34m)\u001b[0m\u001b[0;34m\u001b[0m\u001b[0;34m\u001b[0m\u001b[0m\n",
            "\u001b[0;32m/usr/local/lib/python3.10/dist-packages/tensorflow/python/eager/polymorphic_function/polymorphic_function.py\u001b[0m in \u001b[0;36m__call__\u001b[0;34m(self, *args, **kwds)\u001b[0m\n\u001b[1;32m    892\u001b[0m \u001b[0;34m\u001b[0m\u001b[0m\n\u001b[1;32m    893\u001b[0m       \u001b[0;32mwith\u001b[0m \u001b[0mOptionalXlaContext\u001b[0m\u001b[0;34m(\u001b[0m\u001b[0mself\u001b[0m\u001b[0;34m.\u001b[0m\u001b[0m_jit_compile\u001b[0m\u001b[0;34m)\u001b[0m\u001b[0;34m:\u001b[0m\u001b[0;34m\u001b[0m\u001b[0;34m\u001b[0m\u001b[0m\n\u001b[0;32m--> 894\u001b[0;31m         \u001b[0mresult\u001b[0m \u001b[0;34m=\u001b[0m \u001b[0mself\u001b[0m\u001b[0;34m.\u001b[0m\u001b[0m_call\u001b[0m\u001b[0;34m(\u001b[0m\u001b[0;34m*\u001b[0m\u001b[0margs\u001b[0m\u001b[0;34m,\u001b[0m \u001b[0;34m**\u001b[0m\u001b[0mkwds\u001b[0m\u001b[0;34m)\u001b[0m\u001b[0;34m\u001b[0m\u001b[0;34m\u001b[0m\u001b[0m\n\u001b[0m\u001b[1;32m    895\u001b[0m \u001b[0;34m\u001b[0m\u001b[0m\n\u001b[1;32m    896\u001b[0m       \u001b[0mnew_tracing_count\u001b[0m \u001b[0;34m=\u001b[0m \u001b[0mself\u001b[0m\u001b[0;34m.\u001b[0m\u001b[0mexperimental_get_tracing_count\u001b[0m\u001b[0;34m(\u001b[0m\u001b[0;34m)\u001b[0m\u001b[0;34m\u001b[0m\u001b[0;34m\u001b[0m\u001b[0m\n",
            "\u001b[0;32m/usr/local/lib/python3.10/dist-packages/tensorflow/python/eager/polymorphic_function/polymorphic_function.py\u001b[0m in \u001b[0;36m_call\u001b[0;34m(self, *args, **kwds)\u001b[0m\n\u001b[1;32m    924\u001b[0m       \u001b[0;31m# In this case we have created variables on the first call, so we run the\u001b[0m\u001b[0;34m\u001b[0m\u001b[0;34m\u001b[0m\u001b[0m\n\u001b[1;32m    925\u001b[0m       \u001b[0;31m# defunned version which is guaranteed to never create variables.\u001b[0m\u001b[0;34m\u001b[0m\u001b[0;34m\u001b[0m\u001b[0m\n\u001b[0;32m--> 926\u001b[0;31m       \u001b[0;32mreturn\u001b[0m \u001b[0mself\u001b[0m\u001b[0;34m.\u001b[0m\u001b[0m_no_variable_creation_fn\u001b[0m\u001b[0;34m(\u001b[0m\u001b[0;34m*\u001b[0m\u001b[0margs\u001b[0m\u001b[0;34m,\u001b[0m \u001b[0;34m**\u001b[0m\u001b[0mkwds\u001b[0m\u001b[0;34m)\u001b[0m  \u001b[0;31m# pylint: disable=not-callable\u001b[0m\u001b[0;34m\u001b[0m\u001b[0;34m\u001b[0m\u001b[0m\n\u001b[0m\u001b[1;32m    927\u001b[0m     \u001b[0;32melif\u001b[0m \u001b[0mself\u001b[0m\u001b[0;34m.\u001b[0m\u001b[0m_variable_creation_fn\u001b[0m \u001b[0;32mis\u001b[0m \u001b[0;32mnot\u001b[0m \u001b[0;32mNone\u001b[0m\u001b[0;34m:\u001b[0m\u001b[0;34m\u001b[0m\u001b[0;34m\u001b[0m\u001b[0m\n\u001b[1;32m    928\u001b[0m       \u001b[0;31m# Release the lock early so that multiple threads can perform the call\u001b[0m\u001b[0;34m\u001b[0m\u001b[0;34m\u001b[0m\u001b[0m\n",
            "\u001b[0;32m/usr/local/lib/python3.10/dist-packages/tensorflow/python/eager/polymorphic_function/tracing_compiler.py\u001b[0m in \u001b[0;36m__call__\u001b[0;34m(self, *args, **kwargs)\u001b[0m\n\u001b[1;32m    141\u001b[0m       (concrete_function,\n\u001b[1;32m    142\u001b[0m        filtered_flat_args) = self._maybe_define_function(args, kwargs)\n\u001b[0;32m--> 143\u001b[0;31m     return concrete_function._call_flat(\n\u001b[0m\u001b[1;32m    144\u001b[0m         filtered_flat_args, captured_inputs=concrete_function.captured_inputs)  # pylint: disable=protected-access\n\u001b[1;32m    145\u001b[0m \u001b[0;34m\u001b[0m\u001b[0m\n",
            "\u001b[0;32m/usr/local/lib/python3.10/dist-packages/tensorflow/python/eager/polymorphic_function/monomorphic_function.py\u001b[0m in \u001b[0;36m_call_flat\u001b[0;34m(self, args, captured_inputs, cancellation_manager)\u001b[0m\n\u001b[1;32m   1755\u001b[0m         and executing_eagerly):\n\u001b[1;32m   1756\u001b[0m       \u001b[0;31m# No tape is watching; skip to running the function.\u001b[0m\u001b[0;34m\u001b[0m\u001b[0;34m\u001b[0m\u001b[0m\n\u001b[0;32m-> 1757\u001b[0;31m       return self._build_call_outputs(self._inference_function.call(\n\u001b[0m\u001b[1;32m   1758\u001b[0m           ctx, args, cancellation_manager=cancellation_manager))\n\u001b[1;32m   1759\u001b[0m     forward_backward = self._select_forward_and_backward_functions(\n",
            "\u001b[0;32m/usr/local/lib/python3.10/dist-packages/tensorflow/python/eager/polymorphic_function/monomorphic_function.py\u001b[0m in \u001b[0;36mcall\u001b[0;34m(self, ctx, args, cancellation_manager)\u001b[0m\n\u001b[1;32m    379\u001b[0m       \u001b[0;32mwith\u001b[0m \u001b[0m_InterpolateFunctionError\u001b[0m\u001b[0;34m(\u001b[0m\u001b[0mself\u001b[0m\u001b[0;34m)\u001b[0m\u001b[0;34m:\u001b[0m\u001b[0;34m\u001b[0m\u001b[0;34m\u001b[0m\u001b[0m\n\u001b[1;32m    380\u001b[0m         \u001b[0;32mif\u001b[0m \u001b[0mcancellation_manager\u001b[0m \u001b[0;32mis\u001b[0m \u001b[0;32mNone\u001b[0m\u001b[0;34m:\u001b[0m\u001b[0;34m\u001b[0m\u001b[0;34m\u001b[0m\u001b[0m\n\u001b[0;32m--> 381\u001b[0;31m           outputs = execute.execute(\n\u001b[0m\u001b[1;32m    382\u001b[0m               \u001b[0mstr\u001b[0m\u001b[0;34m(\u001b[0m\u001b[0mself\u001b[0m\u001b[0;34m.\u001b[0m\u001b[0msignature\u001b[0m\u001b[0;34m.\u001b[0m\u001b[0mname\u001b[0m\u001b[0;34m)\u001b[0m\u001b[0;34m,\u001b[0m\u001b[0;34m\u001b[0m\u001b[0;34m\u001b[0m\u001b[0m\n\u001b[1;32m    383\u001b[0m               \u001b[0mnum_outputs\u001b[0m\u001b[0;34m=\u001b[0m\u001b[0mself\u001b[0m\u001b[0;34m.\u001b[0m\u001b[0m_num_outputs\u001b[0m\u001b[0;34m,\u001b[0m\u001b[0;34m\u001b[0m\u001b[0;34m\u001b[0m\u001b[0m\n",
            "\u001b[0;32m/usr/local/lib/python3.10/dist-packages/tensorflow/python/eager/execute.py\u001b[0m in \u001b[0;36mquick_execute\u001b[0;34m(op_name, num_outputs, inputs, attrs, ctx, name)\u001b[0m\n\u001b[1;32m     50\u001b[0m   \u001b[0;32mtry\u001b[0m\u001b[0;34m:\u001b[0m\u001b[0;34m\u001b[0m\u001b[0;34m\u001b[0m\u001b[0m\n\u001b[1;32m     51\u001b[0m     \u001b[0mctx\u001b[0m\u001b[0;34m.\u001b[0m\u001b[0mensure_initialized\u001b[0m\u001b[0;34m(\u001b[0m\u001b[0;34m)\u001b[0m\u001b[0;34m\u001b[0m\u001b[0;34m\u001b[0m\u001b[0m\n\u001b[0;32m---> 52\u001b[0;31m     tensors = pywrap_tfe.TFE_Py_Execute(ctx._handle, device_name, op_name,\n\u001b[0m\u001b[1;32m     53\u001b[0m                                         inputs, attrs, num_outputs)\n\u001b[1;32m     54\u001b[0m   \u001b[0;32mexcept\u001b[0m \u001b[0mcore\u001b[0m\u001b[0;34m.\u001b[0m\u001b[0m_NotOkStatusException\u001b[0m \u001b[0;32mas\u001b[0m \u001b[0me\u001b[0m\u001b[0;34m:\u001b[0m\u001b[0;34m\u001b[0m\u001b[0;34m\u001b[0m\u001b[0m\n",
            "\u001b[0;31mKeyboardInterrupt\u001b[0m: "
          ]
        }
      ]
    },
    {
      "cell_type": "code",
      "execution_count": null,
      "metadata": {
        "colab": {
          "base_uri": "https://localhost:8080/",
          "height": 472
        },
        "outputId": "77ce88cf-a4a9-40e1-9424-96a8cb63f373",
        "id": "6TMPP6JuGo3Z"
      },
      "outputs": [
        {
          "output_type": "display_data",
          "data": {
            "text/plain": [
              "<Figure size 640x480 with 1 Axes>"
            ],
            "image/png": "[encoded data removed]"
          },
          "metadata": {}
        }
      ],
      "source": [
        "plt.plot(history.history['loss'])\n",
        "plt.plot(history.history['val_loss'])\n",
        "plt.title('model loss')\n",
        "plt.ylabel('loss')\n",
        "plt.xlabel('epoch')\n",
        "plt.legend(['train', 'validation'], loc='upper left')\n",
        "plt.show()"
      ]
    },
    {
      "cell_type": "code",
      "source": [
        "import seaborn as sns\n",
        "sns.set_style(\"darkgrid\")\n",
        "epoch_f1s = plt.plot(metrics.f1_scores)\n",
        "plt.show()"
      ],
      "metadata": {
        "colab": {
          "base_uri": "https://localhost:8080/",
          "height": 430
        },
        "id": "8VAz5byEGtrL",
        "outputId": "4fdec7c2-4620-43f3-95fa-1817e1db250c"
      },
      "execution_count": null,
      "outputs": [
        {
          "output_type": "display_data",
          "data": {
            "text/plain": [
              "<Figure size 640x480 with 1 Axes>"
            ],
            "image/png": "[encoded data removed]"
          },
          "metadata": {}
        }
      ]
    },
    {
      "cell_type": "markdown",
      "metadata": {
        "id": "BPBh94CV9L6P"
      },
      "source": [
        "## Optional, if you want to save the trained CWI model into your gdrive"
      ]
    },
    {
      "cell_type": "code",
      "execution_count": null,
      "metadata": {
        "id": "DKf8dSMzuqwA"
      },
      "outputs": [],
      "source": [
        "from google.colab import drive\n",
        "drive.mount('/content/gdrive')"
      ]
    },
    {
      "cell_type": "code",
      "execution_count": null,
      "metadata": {
        "id": "6PuNmJecws4T"
      },
      "outputs": [],
      "source": [
        "model_save_name = 'model_CWI_full.h5'\n",
        "path_dir = F\"/content/gdrive/My Drive/{model_save_name}\""
      ]
    },
    {
      "cell_type": "markdown",
      "metadata": {
        "id": "YTnoFxbiuv_I"
      },
      "source": [
        "Save the model to google drive"
      ]
    },
    {
      "cell_type": "code",
      "execution_count": null,
      "metadata": {
        "id": "uJTyD4Qcwidq"
      },
      "outputs": [],
      "source": [
        "from keras.models import load_model\n",
        "\n",
        "model.save(path_dir)  # creates a HDF5 file 'model_CWI_full.h5'"
      ]
    },
    {
      "cell_type": "markdown",
      "metadata": {
        "id": "IPnvDOhLunjF"
      },
      "source": [
        "Retrieve the model from google drive (if decide to save it)"
      ]
    },
    {
      "cell_type": "code",
      "execution_count": null,
      "metadata": {
        "id": "QUGNP3AWzCnM"
      },
      "outputs": [],
      "source": [
        "from keras.models import load_model\n",
        "\n",
        "model_cwi = load_model(path_dir)"
      ]
    },
    {
      "cell_type": "markdown",
      "metadata": {
        "id": "OXGGPCyr_My8"
      },
      "source": [
        "## Now, let´s define some useful functions in order to use the CWI with some out of samples sentences"
      ]
    },
    {
      "cell_type": "markdown",
      "metadata": {
        "id": "xnlnwjm8_9pf"
      },
      "source": [
        "Function for clean the data and remove non characters symbols"
      ]
    },
    {
      "cell_type": "code",
      "execution_count": null,
      "metadata": {
        "id": "x3JMwj_HxKgl"
      },
      "outputs": [],
      "source": [
        "stop_words_ = set(stopwords.words('english'))\n",
        "def cleaner(word):\n",
        "  #Remove links\n",
        "  word = re.sub(r'((http|https)\\:\\/\\/)?[a-zA-Z0-9\\.\\/\\?\\:@\\-_=#]+\\.([a-zA-Z]){2,6}([a-zA-Z0-9\\.\\&\\/\\?\\:@\\-_=#])*',\n",
        "                '', word, flags=re.MULTILINE)\n",
        "  word = re.sub('[\\W]', ' ', word)\n",
        "  word = re.sub('[^a-zA-Z]', ' ', word)\n",
        "  return word.lower().strip()"
      ]
    },
    {
      "cell_type": "markdown",
      "metadata": {
        "id": "3Of08s9-AQ_R"
      },
      "source": [
        "Function for to create the padded sequence"
      ]
    },
    {
      "cell_type": "code",
      "execution_count": null,
      "metadata": {
        "id": "c4QlGcVup70D"
      },
      "outputs": [],
      "source": [
        "\n",
        "def process_input(input_text):\n",
        "  input_text = cleaner(input_text)\n",
        "  clean_text = []\n",
        "  index_list =[]\n",
        "  input_token = []\n",
        "  index_list_zipf = []\n",
        "  for i, word in enumerate(input_text.split()):\n",
        "    if word in word2index:\n",
        "      clean_text.append(word)\n",
        "      input_token.append(word2index[word])\n",
        "    else:\n",
        "      index_list.append(i)\n",
        "  input_padded = pad_sequences(maxlen=sent_max_length, sequences=[input_token], padding=\"post\", value=0)\n",
        "  return input_padded, index_list, len(clean_text)\n"
      ]
    },
    {
      "cell_type": "code",
      "execution_count": null,
      "metadata": {
        "id": "B56mqE5V_n2s"
      },
      "outputs": [],
      "source": [
        "def complete_missing_word(pred_binary, index_list, len_list):\n",
        "  list_cwi_predictions = list(pred_binary[0][:len_list])\n",
        "  for i in index_list:\n",
        "    list_cwi_predictions.insert(i, 0)\n",
        "  return list_cwi_predictions\n"
      ]
    },
    {
      "cell_type": "markdown",
      "metadata": {
        "id": "1QUAPHk7qVhT"
      },
      "source": [
        "# Second part: The Candidates generation and selection using BERT"
      ]
    },
    {
      "cell_type": "markdown",
      "metadata": {
        "id": "WtOZMEJRR1kP"
      },
      "source": [
        "First, install the libraries"
      ]
    },
    {
      "cell_type": "code",
      "execution_count": null,
      "metadata": {
        "id": "UVYx5gVerXCF"
      },
      "outputs": [],
      "source": [
        "!pip install transformers\n",
        "!pip install torch"
      ]
    },
    {
      "cell_type": "markdown",
      "metadata": {
        "id": "Mdl8mdOavews"
      },
      "source": [
        "Load the BERT  model for masked languge"
      ]
    },
    {
      "cell_type": "code",
      "execution_count": null,
      "metadata": {
        "id": "-dtRGV68II0q"
      },
      "outputs": [],
      "source": [
        "import torch\n",
        "from transformers import BertTokenizer, BertModel, BertForMaskedLM\n",
        "\n",
        "bert_model = 'bert-large-uncased'\n",
        "tokenizer = BertTokenizer.from_pretrained(bert_model)\n",
        "model = BertForMaskedLM.from_pretrained(bert_model)\n",
        "model.eval()"
      ]
    },
    {
      "cell_type": "markdown",
      "metadata": {
        "id": "ZCjuu21qNDk2"
      },
      "source": [
        "To compute the **Zipf values**, we use the library **wordfreq**"
      ]
    },
    {
      "cell_type": "code",
      "execution_count": null,
      "metadata": {
        "id": "GIx9Fo5nLrlE"
      },
      "outputs": [],
      "source": [
        "!pip install wordfreq"
      ]
    },
    {
      "cell_type": "markdown",
      "metadata": {
        "id": "x9U5-S_GOT2u"
      },
      "source": [
        "if we want the Zipf of the word \"stop\":"
      ]
    },
    {
      "cell_type": "code",
      "execution_count": null,
      "metadata": {
        "id": "piqCWoCgEvNr"
      },
      "outputs": [],
      "source": [
        "from wordfreq import zipf_frequency\n",
        "zipf_frequency('stop', 'en')\n"
      ]
    },
    {
      "cell_type": "markdown",
      "metadata": {
        "id": "x_XHvjDGOkej"
      },
      "source": [
        "and for the word \"thwart\":"
      ]
    },
    {
      "cell_type": "code",
      "execution_count": null,
      "metadata": {
        "id": "6q0W9MhJOhxz"
      },
      "outputs": [],
      "source": [
        "from wordfreq import zipf_frequency\n",
        "zipf_frequency('thwart', 'en')"
      ]
    },
    {
      "cell_type": "markdown",
      "metadata": {
        "id": "clsADW6WRX4l"
      },
      "source": [
        "As you can see the word \"stop\" is the most common."
      ]
    },
    {
      "cell_type": "markdown",
      "metadata": {
        "id": "RqpV6nvyRlWc"
      },
      "source": [
        "## Now the function to get the candidates out of BERT (MLM):"
      ]
    },
    {
      "cell_type": "code",
      "execution_count": null,
      "metadata": {
        "id": "7l-H8loKIgMF"
      },
      "outputs": [],
      "source": [
        "def get_bert_candidates(input_text, list_cwi_predictions, numb_predictions_displayed = 30):\n",
        "  list_candidates_bert = []\n",
        "  for word,pred  in zip(input_text.split(), list_cwi_predictions):\n",
        "    if (pred and (pos_tag([word])[0][1] in ['NNS', 'NN', 'VBP', 'RB', 'VBG','VBD' ]))  or (zipf_frequency(word, 'en')) <2.95:\n",
        "      replace_word_mask = input_text.replace(word, '[MASK]')\n",
        "      text = f'[CLS]{replace_word_mask} [SEP] {input_text} [SEP] '\n",
        "      tokenized_text = tokenizer.tokenize(text)\n",
        "      masked_index = [i for i, x in enumerate(tokenized_text) if x == '[MASK]'][0]\n",
        "      indexed_tokens = tokenizer.convert_tokens_to_ids(tokenized_text)\n",
        "      segments_ids = [0]*len(tokenized_text)\n",
        "      tokens_tensor = torch.tensor([indexed_tokens])\n",
        "      segments_tensors = torch.tensor([segments_ids])\n",
        "      # Predict all tokens\n",
        "      with torch.no_grad():\n",
        "          outputs = model(tokens_tensor, token_type_ids=segments_tensors)\n",
        "          predictions = outputs[0][0][masked_index]\n",
        "      predicted_ids = torch.argsort(predictions, descending=True)[:numb_predictions_displayed]\n",
        "      predicted_tokens = tokenizer.convert_ids_to_tokens(list(predicted_ids))\n",
        "      list_candidates_bert.append((word, predicted_tokens))\n",
        "  return list_candidates_bert"
      ]
    },
    {
      "cell_type": "markdown",
      "metadata": {
        "id": "7GEwJu8fP8g1"
      },
      "source": [
        "# Simplifying new sentences:"
      ]
    },
    {
      "cell_type": "markdown",
      "metadata": {
        "id": "m-cd30Q6QJwb"
      },
      "source": [
        "Given a list of new sentences with complex words:"
      ]
    },
    {
      "cell_type": "code",
      "execution_count": null,
      "metadata": {
        "id": "x4MRULkKNKNi"
      },
      "outputs": [],
      "source": [
        "list_texts = [\n",
        " 'The patient has a fractured clavicle and requires immobilization of the affected area.',\n",
        " 'The patient has gastroesophageal reflux disease (GERD) and should avoid acidic foods and beverages.',\n",
        " 'The patient has an acute myocardial infarction (AMI) and requires urgent medical intervention.',\n",
        " 'The patient has hypertension and needs to take antihypertensive medication to lower their blood pressure.'  ,\n",
        " 'The patient has a herniated lumbar disc and needs physical therapy to alleviate their back pain.',\n",
        " 'The patient has a pulmonary embolism and needs anticoagulant medication to prevent blood clots.',\n",
        " 'The patient has gastroenteritis and needs to stay hydrated and rest to recover.'\n",
        "]"
      ]
    },
    {
      "cell_type": "markdown",
      "metadata": {
        "id": "9Q6jPaqVQSHj"
      },
      "source": [
        "We apply the simplifier to see how it is performing:"
      ]
    },
    {
      "cell_type": "code",
      "execution_count": null,
      "metadata": {
        "id": "RFl_PPkLOGyG"
      },
      "outputs": [],
      "source": [
        "for input_text in list_texts:\n",
        "  new_text = input_text\n",
        "  input_padded, index_list, len_list = process_input(input_text)\n",
        "  pred_cwi = model_cwi.predict(input_padded)\n",
        "  pred_cwi_binary = np.argmax(pred_cwi, axis = 2)\n",
        "  complete_cwi_predictions = complete_missing_word(pred_cwi_binary, index_list, len_list)\n",
        "  bert_candidates =   get_bert_candidates(input_text, complete_cwi_predictions)\n",
        "  for word_to_replace, l_candidates in bert_candidates:\n",
        "    tuples_word_zipf = []\n",
        "    for w in l_candidates:\n",
        "      if w.isalpha():\n",
        "        tuples_word_zipf.append((w, zipf_frequency(w, 'en')))\n",
        "    tuples_word_zipf = sorted(tuples_word_zipf, key = lambda x: x[1], reverse=True)\n",
        "    print('word_to_replace : ' , word_to_replace )\n",
        "    new_text = re.sub(word_to_replace, tuples_word_zipf[0][0], new_text)\n",
        "\n",
        "  print(\"Original text: \", input_text )\n",
        "  print(\"Simplified text:\", new_text, \"\\n\")"
      ]
    },
    {
      "cell_type": "markdown",
      "metadata": {
        "id": "uX_rtWzTQnEZ"
      },
      "source": [
        "**Pretty** **good results**"
      ]
    },
    {
      "cell_type": "code",
      "execution_count": null,
      "metadata": {
        "id": "qv0CXQBNKp4n"
      },
      "outputs": [],
      "source": []
    },
    {
      "cell_type": "code",
      "execution_count": null,
      "metadata": {
        "id": "zzPDMK6LKqfv"
      },
      "outputs": [],
      "source": [
        "# Represent list candidates as a word cloud\n",
        "from wordcloud import WordCloud\n",
        "import matplotlib.pyplot as plt\n",
        "\n",
        "Relations = {}\n",
        "for input_text in list_texts:\n",
        "  new_text = input_text\n",
        "  input_padded, index_list, len_list = process_input(input_text)\n",
        "  pred_cwi = model_cwi.predict(input_padded)\n",
        "  pred_cwi_binary = np.argmax(pred_cwi, axis = 2)\n",
        "  complete_cwi_predictions = complete_missing_word(pred_cwi_binary, index_list, len_list)\n",
        "  bert_candidates =   get_bert_candidates(input_text, complete_cwi_predictions)\n",
        "  list_candidates = []\n",
        "  for word_to_replace, l_candidates in bert_candidates:\n",
        "    tuples_word_zipf = []\n",
        "    for w in l_candidates:\n",
        "      if w.isalpha():\n",
        "        tuples_word_zipf.append((w, zipf_frequency(w, 'en')))\n",
        "    #Extract the list of all high ranked candidates\n",
        "    high_ranked_candidates = [t[0] for t in tuples_word_zipf if t[1] > 2.95]\n",
        "    tuples_word_zipf = sorted(tuples_word_zipf, key = lambda x: x[1], reverse=True)\n",
        "    print('word_to_replace : ' , word_to_replace )\n",
        "    Relations[word_to_replace] = high_ranked_candidates\n",
        "    new_text = re.sub(word_to_replace, tuples_word_zipf[0][0], new_text)\n",
        "    list_candidates.append(tuples_word_zipf[0][0])\n",
        "  print(\"Original text: \", input_text )\n",
        "  print(\"Simplified text:\", new_text, \"\\n\")\n",
        "\n",
        "# Represent Relations as a word cloud\n",
        "def word_cloud_relations(Relations):\n",
        "  #Seperate every key-value pair in the dictionary and represent it as its own word cloud in a grid\n",
        "    fig, axs = plt.subplots(4, 3, figsize=(15, 10))\n",
        "    fig.suptitle('Word Clouds of Relations')\n",
        "    for i, (key, value) in enumerate(Relations.items()):\n",
        "        wordcloud = WordCloud(width = 1000, height = 500).generate(str(value))\n",
        "        axs[i//3, i%3].imshow(wordcloud)\n",
        "        axs[i//3, i%3].set_title(key)\n",
        "        axs[i//3, i%3].axis(\"off\")\n",
        "    plt.show()\n",
        "word_cloud_relations(Relations)\n"
      ]
    },
    {
      "cell_type": "code",
      "execution_count": null,
      "metadata": {
        "id": "fgMA3W1NSE6O"
      },
      "outputs": [],
      "source": []
    }
  ],
  "metadata": {
    "accelerator": "GPU",
    "colab": {
      "provenance": []
    },
    "kernelspec": {
      "display_name": "Python 3",
      "language": "python",
      "name": "python3"
    },
    "language_info": {
      "codemirror_mode": {
        "name": "ipython",
        "version": 3
      },
      "file_extension": ".py",
      "mimetype": "text/x-python",
      "name": "python",
      "nbconvert_exporter": "python",
      "pygments_lexer": "ipython3",
      "version": "3.6.6"
    }
  },
  "nbformat": 4,
  "nbformat_minor": 0
}